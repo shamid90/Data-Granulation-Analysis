{
 "cells": [
  {
   "cell_type": "markdown",
   "metadata": {},
   "source": [
    "# Würfel und Münze"
   ]
  },
  {
   "cell_type": "markdown",
   "metadata": {},
   "source": [
    "#### Import libraries and Data generation"
   ]
  },
  {
   "cell_type": "code",
   "execution_count": 1,
   "metadata": {},
   "outputs": [],
   "source": [
    "import numpy as np\n",
    "import pandas as pd\n",
    "\n",
    "dice = [1,2,3,4,5,6]\n",
    "dice_10000 = np.random.choice(dice, 10000, replace=True)\n",
    "\n",
    "coin = ['Kopf', 'Zahl']\n",
    "coin_10000 = np.random.choice(coin, 10000, replace=True)"
   ]
  },
  {
   "cell_type": "markdown",
   "metadata": {},
   "source": [
    "__From \" numpy Array\"  into --> \"pandas DataFrame\"__\n"
   ]
  },
  {
   "cell_type": "code",
   "execution_count": 2,
   "metadata": {},
   "outputs": [],
   "source": [
    "dfd = pd.DataFrame(dice_10000, columns=['Ergebnis'])\n",
    "dfd['Versuchnummer'] = dfd.index +1\n",
    "dfd.set_index('Versuchnummer', inplace=True)\n",
    "\n",
    "\n",
    "dfc = pd.DataFrame(coin_10000, columns=['Ergebnis'])\n",
    "dfc['Versuchnummer'] = dfc.index +1\n",
    "#dfc.set_index('Versuchnummer', inplace=True)\n"
   ]
  },
  {
   "cell_type": "markdown",
   "metadata": {},
   "source": [
    "### Granulation in 10, 100, 1000, 10000 data samples for Dice"
   ]
  },
  {
   "cell_type": "code",
   "execution_count": 3,
   "metadata": {
    "scrolled": true
   },
   "outputs": [],
   "source": [
    "n = [10,100,1000,10000]\n",
    "\n",
    "d={}\n",
    "for i in n:\n",
    "    d[\"df\" + str(i)] = pd.DataFrame(pd.Series(dfd.sample(i)['Ergebnis']).value_counts())\n",
    "    d[\"df\" + str(i)].rename(columns={'Ergebnis': 'Absolute Häufigkeit'}, inplace=True)\n",
    "    d[\"df\" + str(i)]['Relative Häufigkeit'] = d[\"df\" + str(i)].apply (lambda row: row['Absolute Häufigkeit'] / i, axis=1)\n",
    "    d[\"df\" + str(i)]['Ergebnis'] = d[\"df\" + str(i)].index\n",
    "    d[\"df\" + str(i)]['n'] = np.repeat(i, len(d[\"df\" + str(i)].index))\n",
    "    \n",
    "\n",
    "df10 = pd.DataFrame(d['df10']).sort_index()\n",
    "df100 = pd.DataFrame(d['df100']).sort_index()\n",
    "df1000 = pd.DataFrame(d['df1000']).sort_index()\n",
    "df10000 = pd.DataFrame(d['df10000']).sort_index()\n"
   ]
  },
  {
   "cell_type": "code",
   "execution_count": 4,
   "metadata": {
    "scrolled": true
   },
   "outputs": [
    {
     "data": {
      "text/html": [
       "<div>\n",
       "<style scoped>\n",
       "    .dataframe tbody tr th:only-of-type {\n",
       "        vertical-align: middle;\n",
       "    }\n",
       "\n",
       "    .dataframe tbody tr th {\n",
       "        vertical-align: top;\n",
       "    }\n",
       "\n",
       "    .dataframe thead th {\n",
       "        text-align: right;\n",
       "    }\n",
       "</style>\n",
       "<table border=\"1\" class=\"dataframe\">\n",
       "  <thead>\n",
       "    <tr style=\"text-align: right;\">\n",
       "      <th></th>\n",
       "      <th>Absolute Häufigkeit</th>\n",
       "      <th>Relative Häufigkeit</th>\n",
       "      <th>Ergebnis</th>\n",
       "      <th>n</th>\n",
       "    </tr>\n",
       "  </thead>\n",
       "  <tbody>\n",
       "    <tr>\n",
       "      <th>1</th>\n",
       "      <td>2</td>\n",
       "      <td>0.2000</td>\n",
       "      <td>1</td>\n",
       "      <td>10</td>\n",
       "    </tr>\n",
       "    <tr>\n",
       "      <th>2</th>\n",
       "      <td>2</td>\n",
       "      <td>0.2000</td>\n",
       "      <td>2</td>\n",
       "      <td>10</td>\n",
       "    </tr>\n",
       "    <tr>\n",
       "      <th>3</th>\n",
       "      <td>1</td>\n",
       "      <td>0.1000</td>\n",
       "      <td>3</td>\n",
       "      <td>10</td>\n",
       "    </tr>\n",
       "    <tr>\n",
       "      <th>4</th>\n",
       "      <td>3</td>\n",
       "      <td>0.3000</td>\n",
       "      <td>4</td>\n",
       "      <td>10</td>\n",
       "    </tr>\n",
       "    <tr>\n",
       "      <th>6</th>\n",
       "      <td>2</td>\n",
       "      <td>0.2000</td>\n",
       "      <td>6</td>\n",
       "      <td>10</td>\n",
       "    </tr>\n",
       "    <tr>\n",
       "      <th>1</th>\n",
       "      <td>15</td>\n",
       "      <td>0.1500</td>\n",
       "      <td>1</td>\n",
       "      <td>100</td>\n",
       "    </tr>\n",
       "    <tr>\n",
       "      <th>2</th>\n",
       "      <td>17</td>\n",
       "      <td>0.1700</td>\n",
       "      <td>2</td>\n",
       "      <td>100</td>\n",
       "    </tr>\n",
       "    <tr>\n",
       "      <th>3</th>\n",
       "      <td>17</td>\n",
       "      <td>0.1700</td>\n",
       "      <td>3</td>\n",
       "      <td>100</td>\n",
       "    </tr>\n",
       "    <tr>\n",
       "      <th>4</th>\n",
       "      <td>16</td>\n",
       "      <td>0.1600</td>\n",
       "      <td>4</td>\n",
       "      <td>100</td>\n",
       "    </tr>\n",
       "    <tr>\n",
       "      <th>5</th>\n",
       "      <td>16</td>\n",
       "      <td>0.1600</td>\n",
       "      <td>5</td>\n",
       "      <td>100</td>\n",
       "    </tr>\n",
       "    <tr>\n",
       "      <th>6</th>\n",
       "      <td>19</td>\n",
       "      <td>0.1900</td>\n",
       "      <td>6</td>\n",
       "      <td>100</td>\n",
       "    </tr>\n",
       "    <tr>\n",
       "      <th>1</th>\n",
       "      <td>157</td>\n",
       "      <td>0.1570</td>\n",
       "      <td>1</td>\n",
       "      <td>1000</td>\n",
       "    </tr>\n",
       "    <tr>\n",
       "      <th>2</th>\n",
       "      <td>168</td>\n",
       "      <td>0.1680</td>\n",
       "      <td>2</td>\n",
       "      <td>1000</td>\n",
       "    </tr>\n",
       "    <tr>\n",
       "      <th>3</th>\n",
       "      <td>183</td>\n",
       "      <td>0.1830</td>\n",
       "      <td>3</td>\n",
       "      <td>1000</td>\n",
       "    </tr>\n",
       "    <tr>\n",
       "      <th>4</th>\n",
       "      <td>167</td>\n",
       "      <td>0.1670</td>\n",
       "      <td>4</td>\n",
       "      <td>1000</td>\n",
       "    </tr>\n",
       "    <tr>\n",
       "      <th>5</th>\n",
       "      <td>160</td>\n",
       "      <td>0.1600</td>\n",
       "      <td>5</td>\n",
       "      <td>1000</td>\n",
       "    </tr>\n",
       "    <tr>\n",
       "      <th>6</th>\n",
       "      <td>165</td>\n",
       "      <td>0.1650</td>\n",
       "      <td>6</td>\n",
       "      <td>1000</td>\n",
       "    </tr>\n",
       "    <tr>\n",
       "      <th>1</th>\n",
       "      <td>1634</td>\n",
       "      <td>0.1634</td>\n",
       "      <td>1</td>\n",
       "      <td>10000</td>\n",
       "    </tr>\n",
       "    <tr>\n",
       "      <th>2</th>\n",
       "      <td>1627</td>\n",
       "      <td>0.1627</td>\n",
       "      <td>2</td>\n",
       "      <td>10000</td>\n",
       "    </tr>\n",
       "    <tr>\n",
       "      <th>3</th>\n",
       "      <td>1682</td>\n",
       "      <td>0.1682</td>\n",
       "      <td>3</td>\n",
       "      <td>10000</td>\n",
       "    </tr>\n",
       "    <tr>\n",
       "      <th>4</th>\n",
       "      <td>1645</td>\n",
       "      <td>0.1645</td>\n",
       "      <td>4</td>\n",
       "      <td>10000</td>\n",
       "    </tr>\n",
       "    <tr>\n",
       "      <th>5</th>\n",
       "      <td>1745</td>\n",
       "      <td>0.1745</td>\n",
       "      <td>5</td>\n",
       "      <td>10000</td>\n",
       "    </tr>\n",
       "    <tr>\n",
       "      <th>6</th>\n",
       "      <td>1667</td>\n",
       "      <td>0.1667</td>\n",
       "      <td>6</td>\n",
       "      <td>10000</td>\n",
       "    </tr>\n",
       "  </tbody>\n",
       "</table>\n",
       "</div>"
      ],
      "text/plain": [
       "   Absolute Häufigkeit  Relative Häufigkeit  Ergebnis      n\n",
       "1                    2               0.2000         1     10\n",
       "2                    2               0.2000         2     10\n",
       "3                    1               0.1000         3     10\n",
       "4                    3               0.3000         4     10\n",
       "6                    2               0.2000         6     10\n",
       "1                   15               0.1500         1    100\n",
       "2                   17               0.1700         2    100\n",
       "3                   17               0.1700         3    100\n",
       "4                   16               0.1600         4    100\n",
       "5                   16               0.1600         5    100\n",
       "6                   19               0.1900         6    100\n",
       "1                  157               0.1570         1   1000\n",
       "2                  168               0.1680         2   1000\n",
       "3                  183               0.1830         3   1000\n",
       "4                  167               0.1670         4   1000\n",
       "5                  160               0.1600         5   1000\n",
       "6                  165               0.1650         6   1000\n",
       "1                 1634               0.1634         1  10000\n",
       "2                 1627               0.1627         2  10000\n",
       "3                 1682               0.1682         3  10000\n",
       "4                 1645               0.1645         4  10000\n",
       "5                 1745               0.1745         5  10000\n",
       "6                 1667               0.1667         6  10000"
      ]
     },
     "execution_count": 4,
     "metadata": {},
     "output_type": "execute_result"
    }
   ],
   "source": [
    "df = pd.concat([df10,df100, df1000,df10000], axis=0)\n",
    "df"
   ]
  },
  {
   "cell_type": "markdown",
   "metadata": {},
   "source": [
    "### Bar charts using seaborn"
   ]
  },
  {
   "cell_type": "code",
   "execution_count": 5,
   "metadata": {},
   "outputs": [
    {
     "data": {
      "text/plain": [
       "<seaborn.axisgrid.FacetGrid at 0x2ac0cecbb08>"
      ]
     },
     "execution_count": 5,
     "metadata": {},
     "output_type": "execute_result"
    },
    {
     "data": {
      "image/png": "[encoded data removed]",
      "text/plain": [
       "<Figure size 864x216 with 4 Axes>"
      ]
     },
     "metadata": {
      "needs_background": "light"
     },
     "output_type": "display_data"
    }
   ],
   "source": [
    "import seaborn as sb\n",
    "\n",
    "g = sb.FacetGrid(df, col='n', hue='Ergebnis' , sharey=False)\n",
    "g.map(sb.barplot,'Ergebnis','Absolute Häufigkeit' , order=[1,2,3,4,5,6])"
   ]
  },
  {
   "cell_type": "code",
   "execution_count": 6,
   "metadata": {},
   "outputs": [
    {
     "data": {
      "image/png": "[encoded data removed]",
      "text/plain": [
       "<Figure size 427.375x360 with 1 Axes>"
      ]
     },
     "metadata": {
      "needs_background": "light"
     },
     "output_type": "display_data"
    }
   ],
   "source": [
    "g = sb.catplot(x='Ergebnis', y='Relative Häufigkeit', hue='n', data=df, kind='bar')"
   ]
  },
  {
   "cell_type": "markdown",
   "metadata": {},
   "source": [
    "### Granulation for coin data"
   ]
  },
  {
   "cell_type": "code",
   "execution_count": 7,
   "metadata": {},
   "outputs": [
    {
     "data": {
      "text/html": [
       "<div>\n",
       "<style scoped>\n",
       "    .dataframe tbody tr th:only-of-type {\n",
       "        vertical-align: middle;\n",
       "    }\n",
       "\n",
       "    .dataframe tbody tr th {\n",
       "        vertical-align: top;\n",
       "    }\n",
       "\n",
       "    .dataframe thead th {\n",
       "        text-align: right;\n",
       "    }\n",
       "</style>\n",
       "<table border=\"1\" class=\"dataframe\">\n",
       "  <thead>\n",
       "    <tr style=\"text-align: right;\">\n",
       "      <th></th>\n",
       "      <th>Ergebnis</th>\n",
       "      <th>Versuchnummer</th>\n",
       "      <th>Kopf</th>\n",
       "      <th>Relative Häufgkeit Kopf</th>\n",
       "    </tr>\n",
       "  </thead>\n",
       "  <tbody>\n",
       "    <tr>\n",
       "      <th>0</th>\n",
       "      <td>Kopf</td>\n",
       "      <td>1</td>\n",
       "      <td>1</td>\n",
       "      <td>1.000000</td>\n",
       "    </tr>\n",
       "    <tr>\n",
       "      <th>1</th>\n",
       "      <td>Kopf</td>\n",
       "      <td>2</td>\n",
       "      <td>2</td>\n",
       "      <td>1.000000</td>\n",
       "    </tr>\n",
       "    <tr>\n",
       "      <th>2</th>\n",
       "      <td>Kopf</td>\n",
       "      <td>3</td>\n",
       "      <td>3</td>\n",
       "      <td>1.000000</td>\n",
       "    </tr>\n",
       "    <tr>\n",
       "      <th>3</th>\n",
       "      <td>Kopf</td>\n",
       "      <td>4</td>\n",
       "      <td>4</td>\n",
       "      <td>1.000000</td>\n",
       "    </tr>\n",
       "    <tr>\n",
       "      <th>4</th>\n",
       "      <td>Zahl</td>\n",
       "      <td>5</td>\n",
       "      <td>4</td>\n",
       "      <td>0.800000</td>\n",
       "    </tr>\n",
       "    <tr>\n",
       "      <th>...</th>\n",
       "      <td>...</td>\n",
       "      <td>...</td>\n",
       "      <td>...</td>\n",
       "      <td>...</td>\n",
       "    </tr>\n",
       "    <tr>\n",
       "      <th>9995</th>\n",
       "      <td>Zahl</td>\n",
       "      <td>9996</td>\n",
       "      <td>5068</td>\n",
       "      <td>0.507003</td>\n",
       "    </tr>\n",
       "    <tr>\n",
       "      <th>9996</th>\n",
       "      <td>Kopf</td>\n",
       "      <td>9997</td>\n",
       "      <td>5069</td>\n",
       "      <td>0.507052</td>\n",
       "    </tr>\n",
       "    <tr>\n",
       "      <th>9997</th>\n",
       "      <td>Zahl</td>\n",
       "      <td>9998</td>\n",
       "      <td>5069</td>\n",
       "      <td>0.507001</td>\n",
       "    </tr>\n",
       "    <tr>\n",
       "      <th>9998</th>\n",
       "      <td>Zahl</td>\n",
       "      <td>9999</td>\n",
       "      <td>5069</td>\n",
       "      <td>0.506951</td>\n",
       "    </tr>\n",
       "    <tr>\n",
       "      <th>9999</th>\n",
       "      <td>Zahl</td>\n",
       "      <td>10000</td>\n",
       "      <td>5069</td>\n",
       "      <td>0.506900</td>\n",
       "    </tr>\n",
       "  </tbody>\n",
       "</table>\n",
       "<p>10000 rows × 4 columns</p>\n",
       "</div>"
      ],
      "text/plain": [
       "     Ergebnis  Versuchnummer  Kopf  Relative Häufgkeit Kopf\n",
       "0        Kopf              1     1                 1.000000\n",
       "1        Kopf              2     2                 1.000000\n",
       "2        Kopf              3     3                 1.000000\n",
       "3        Kopf              4     4                 1.000000\n",
       "4        Zahl              5     4                 0.800000\n",
       "...       ...            ...   ...                      ...\n",
       "9995     Zahl           9996  5068                 0.507003\n",
       "9996     Kopf           9997  5069                 0.507052\n",
       "9997     Zahl           9998  5069                 0.507001\n",
       "9998     Zahl           9999  5069                 0.506951\n",
       "9999     Zahl          10000  5069                 0.506900\n",
       "\n",
       "[10000 rows x 4 columns]"
      ]
     },
     "execution_count": 7,
     "metadata": {},
     "output_type": "execute_result"
    }
   ],
   "source": [
    "dfc['Kopf'] = dfc.groupby('Ergebnis').cumcount() + 1\n",
    "\n",
    "for i in range(0,10000):\n",
    "    if (dfc['Ergebnis'].iloc[i] == 'Zahl'):\n",
    "           dfc.at[i, 'Kopf'] = 0\n",
    "            \n",
    "for i in range(0,10000):\n",
    "    if (dfc['Kopf'].iloc[i] == 0) & (i>0):\n",
    "           dfc.at[i, 'Kopf'] = dfc.at[i-1, 'Kopf']\n",
    "\n",
    "dfc['Relative Häufgkeit Kopf'] = dfc['Kopf'] / dfc['Versuchnummer'] \n",
    "dfc\n"
   ]
  },
  {
   "cell_type": "code",
   "execution_count": 8,
   "metadata": {
    "scrolled": false
   },
   "outputs": [
    {
     "data": {
      "text/html": [
       "<div>\n",
       "<style scoped>\n",
       "    .dataframe tbody tr th:only-of-type {\n",
       "        vertical-align: middle;\n",
       "    }\n",
       "\n",
       "    .dataframe tbody tr th {\n",
       "        vertical-align: top;\n",
       "    }\n",
       "\n",
       "    .dataframe thead th {\n",
       "        text-align: right;\n",
       "    }\n",
       "</style>\n",
       "<table border=\"1\" class=\"dataframe\">\n",
       "  <thead>\n",
       "    <tr style=\"text-align: right;\">\n",
       "      <th></th>\n",
       "      <th>Ergebnis</th>\n",
       "      <th>Versuchnummer</th>\n",
       "      <th>Relative Häufgkeit Kopf</th>\n",
       "    </tr>\n",
       "  </thead>\n",
       "  <tbody>\n",
       "    <tr>\n",
       "      <th>0</th>\n",
       "      <td>Kopf</td>\n",
       "      <td>1</td>\n",
       "      <td>1.000000</td>\n",
       "    </tr>\n",
       "    <tr>\n",
       "      <th>1</th>\n",
       "      <td>Kopf</td>\n",
       "      <td>2</td>\n",
       "      <td>1.000000</td>\n",
       "    </tr>\n",
       "    <tr>\n",
       "      <th>2</th>\n",
       "      <td>Kopf</td>\n",
       "      <td>3</td>\n",
       "      <td>1.000000</td>\n",
       "    </tr>\n",
       "    <tr>\n",
       "      <th>3</th>\n",
       "      <td>Kopf</td>\n",
       "      <td>4</td>\n",
       "      <td>1.000000</td>\n",
       "    </tr>\n",
       "    <tr>\n",
       "      <th>4</th>\n",
       "      <td>Zahl</td>\n",
       "      <td>5</td>\n",
       "      <td>0.800000</td>\n",
       "    </tr>\n",
       "    <tr>\n",
       "      <th>...</th>\n",
       "      <td>...</td>\n",
       "      <td>...</td>\n",
       "      <td>...</td>\n",
       "    </tr>\n",
       "    <tr>\n",
       "      <th>9995</th>\n",
       "      <td>Zahl</td>\n",
       "      <td>9996</td>\n",
       "      <td>0.507003</td>\n",
       "    </tr>\n",
       "    <tr>\n",
       "      <th>9996</th>\n",
       "      <td>Kopf</td>\n",
       "      <td>9997</td>\n",
       "      <td>0.507052</td>\n",
       "    </tr>\n",
       "    <tr>\n",
       "      <th>9997</th>\n",
       "      <td>Zahl</td>\n",
       "      <td>9998</td>\n",
       "      <td>0.507001</td>\n",
       "    </tr>\n",
       "    <tr>\n",
       "      <th>9998</th>\n",
       "      <td>Zahl</td>\n",
       "      <td>9999</td>\n",
       "      <td>0.506951</td>\n",
       "    </tr>\n",
       "    <tr>\n",
       "      <th>9999</th>\n",
       "      <td>Zahl</td>\n",
       "      <td>10000</td>\n",
       "      <td>0.506900</td>\n",
       "    </tr>\n",
       "  </tbody>\n",
       "</table>\n",
       "<p>10000 rows × 3 columns</p>\n",
       "</div>"
      ],
      "text/plain": [
       "     Ergebnis  Versuchnummer  Relative Häufgkeit Kopf\n",
       "0        Kopf              1                 1.000000\n",
       "1        Kopf              2                 1.000000\n",
       "2        Kopf              3                 1.000000\n",
       "3        Kopf              4                 1.000000\n",
       "4        Zahl              5                 0.800000\n",
       "...       ...            ...                      ...\n",
       "9995     Zahl           9996                 0.507003\n",
       "9996     Kopf           9997                 0.507052\n",
       "9997     Zahl           9998                 0.507001\n",
       "9998     Zahl           9999                 0.506951\n",
       "9999     Zahl          10000                 0.506900\n",
       "\n",
       "[10000 rows x 3 columns]"
      ]
     },
     "execution_count": 8,
     "metadata": {},
     "output_type": "execute_result"
    }
   ],
   "source": [
    "df = dfc[['Ergebnis','Versuchnummer' ,'Relative Häufgkeit Kopf']]\n",
    "df"
   ]
  },
  {
   "cell_type": "markdown",
   "metadata": {},
   "source": [
    "### Coin Charts based on Granulation"
   ]
  },
  {
   "cell_type": "code",
   "execution_count": 9,
   "metadata": {
    "scrolled": true
   },
   "outputs": [],
   "source": [
    "df['k'] = pd.DataFrame(np.repeat(1, 10000))\n",
    "for i in range(5,10000,5):\n",
    "    if (i % 100) == 0:\n",
    "        df.at[i, 'k'] = 100\n",
    "    elif (i % 10) == 0:\n",
    "        df.at[i, 'k'] = 10\n",
    "    else:\n",
    "        df.at[i, 'k'] = 5\n",
    "       "
   ]
  },
  {
   "cell_type": "code",
   "execution_count": 10,
   "metadata": {
    "scrolled": true
   },
   "outputs": [
    {
     "data": {
      "image/png": "[encoded data removed]",
      "text/plain": [
       "<Figure size 864x216 with 4 Axes>"
      ]
     },
     "metadata": {
      "needs_background": "light"
     },
     "output_type": "display_data"
    }
   ],
   "source": [
    "import matplotlib.pyplot as plt\n",
    "\n",
    "g = sb.FacetGrid(df, col='k')\n",
    "g = (g.map(plt.plot, \"Versuchnummer\", \"Relative Häufgkeit Kopf\")\n",
    "           .set(ylim=(0, 1),\n",
    "           xticks=[0, 2500, 5000,7500, 10000]))"
   ]
  },
  {
   "cell_type": "code",
   "execution_count": null,
   "metadata": {},
   "outputs": [],
   "source": []
  }
 ],
 "metadata": {
  "kernelspec": {
   "display_name": "Python 3",
   "language": "python",
   "name": "python3"
  },
  "language_info": {
   "codemirror_mode": {
    "name": "ipython",
    "version": 3
   },
   "file_extension": ".py",
   "mimetype": "text/x-python",
   "name": "python",
   "nbconvert_exporter": "python",
   "pygments_lexer": "ipython3",
   "version": "3.7.6"
  }
 },
 "nbformat": 4,
 "nbformat_minor": 4
}
